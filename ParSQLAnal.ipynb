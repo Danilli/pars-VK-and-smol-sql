{
 "cells": [
  {
   "cell_type": "code",
   "execution_count": 1,
   "id": "f382e6da",
   "metadata": {},
   "outputs": [],
   "source": [
    "import pandasql as ps\n",
    "import vk\n",
    "import vk_api\n",
    "from datetime import datetime\n",
    "import csv\n",
    "import pandas as pd"
   ]
  },
  {
   "cell_type": "code",
   "execution_count": 2,
   "id": "227c476e",
   "metadata": {},
   "outputs": [],
   "source": [
    "# Ваш сервисный токен и ID приложения\n",
    "token = ''\n",
    "app_id = ''"
   ]
  },
  {
   "cell_type": "code",
   "execution_count": 3,
   "id": "854945dd",
   "metadata": {},
   "outputs": [],
   "source": [
    "# Айди таргетированного пользователя\n",
    "# Шестаков Данил = 224459838\n",
    "# Александр Ласточкин = 554042102\n",
    "user_id = 224459838"
   ]
  },
  {
   "cell_type": "code",
   "execution_count": 4,
   "id": "57253750",
   "metadata": {},
   "outputs": [
    {
     "data": {
      "text/plain": [
       "[{'id': 224459838,\n",
       "  'first_name': 'Danil',\n",
       "  'last_name': 'Shestakov',\n",
       "  'can_access_closed': True,\n",
       "  'is_closed': False}]"
      ]
     },
     "execution_count": 4,
     "metadata": {},
     "output_type": "execute_result"
    }
   ],
   "source": [
    "# Инициализируем VK API с помощью сервисного токена\n",
    "vk_session = vk_api.VkApi(token=token, app_id=app_id)\n",
    "\n",
    "# Получаем объект VK API\n",
    "vk = vk_session.get_api()\n",
    "\n",
    "# проверяем работу сессии\n",
    "vk.users.get(user_ids=user_id)"
   ]
  },
  {
   "cell_type": "code",
   "execution_count": 5,
   "id": "9441adc4",
   "metadata": {},
   "outputs": [],
   "source": [
    "# Получаем список всех постов пользователя\n",
    "response = vk_session.method('wall.get', {'owner_id': user_id, 'count': 100})\n",
    "\n",
    "# Обрабатываем ответ от VK API\n",
    "if 'items' in response:\n",
    "    posts = response['items']\n",
    "else:\n",
    "    print('Error occurred while getting posts:', response)"
   ]
  },
  {
   "cell_type": "code",
   "execution_count": 6,
   "id": "6f55f821",
   "metadata": {},
   "outputs": [
    {
     "data": {
      "text/plain": [
       "{'is_pinned': 1,\n",
       " 'comments': {'can_post': 1, 'count': 0, 'groups_can_post': True},\n",
       " 'hash': 'p0DUMzlJgOq0uDv0ww',\n",
       " 'type': 'post',\n",
       " 'attachments': [{'type': 'video',\n",
       "   'video': {'response_type': 'full',\n",
       "    'access_key': '26f302e29c5c5c8219',\n",
       "    'can_like': 1,\n",
       "    'can_repost': 1,\n",
       "    'can_subscribe': 1,\n",
       "    'can_add_to_faves': 0,\n",
       "    'can_add': 1,\n",
       "    'comments': 0,\n",
       "    'date': 1664139981,\n",
       "    'description': 'https://www.youtube.com/c/PlanyaCh - Автор кавера / Author this cover\\n#weplanet #anime #war #history #planya #аниме #планя #worldwar #song #katyusha \\n#песня \\nАвтор Слов - Михаил Исаковский \\nАвтор Музыки - Матвей Блантер \\nПравообладатель - Грибоедова Наталья Никандровна  \\nhttps://rao.ru/information/reestry/reestr-proizvedenij-rossijskih-pravoobladatelej/?work&author=%D0%93%D1%80%D0%B8%D0%B1%D0%BE%D0%B5%D0%B4%D0%BE%D0%B2%D0%B0%20%D0%9D%D0%B0%D1%82%D0%B0%D0%BB%D1%8C%D1%8F%20%D0%9D%D0%B8%D0%BA%D0%B0%D0%BD%D0%B4%D1%80%D0%BE%D0%B2%D0%BD%D0%B0 \\n\\nВсе материалы, использованные для создания данного музыкального видео, принадлежат правообладателям. Этот канал не преследует никаких целей заработать на творчестве авторов как и цели собственной популярности или какой-то выгоды. Все делается  с уважением к авторам',\n",
       "    'duration': 202,\n",
       "    'photo_130': 'https://sun7-22.userapi.com/2OsCtLCB3gjzqc_Kf7tnTW2XLdzn1_uOqlgzVA/3FRTZpbxgi0.jpg',\n",
       "    'photo_320': 'https://sun7-21.userapi.com/2ppgN2QyEKXgZCrpkSECOf82HFRY8orh5kXrDg/MDk9qGtWv_U.jpg',\n",
       "    'photo_800': 'https://sun7-18.userapi.com/_sotEnjXqRHgljOs8UUdtObazOMhO32xpSkj_w/6r9A0Ock85U.jpg',\n",
       "    'id': 456247148,\n",
       "    'owner_id': 224459838,\n",
       "    'title': 'Катюша/Katyusha  - Planya ch',\n",
       "    'track_code': 'video_42ac5c60XDed8WNPxFvUAXN-9cokZq_kMNaChHrslTiHYj3aR6ZqHZfwbyTDVtkHfiHB_xJUm9MB4rqADY35VIdtDw',\n",
       "    'views': 3,\n",
       "    'platform': 'YouTube',\n",
       "    'can_dislike': 1}}],\n",
       " 'date': 1664139981,\n",
       " 'from_id': 224459838,\n",
       " 'id': 24555,\n",
       " 'likes': {'can_like': 1,\n",
       "  'count': 3,\n",
       "  'user_likes': 0,\n",
       "  'can_publish': 1,\n",
       "  'repost_disabled': False},\n",
       " 'owner_id': 224459838,\n",
       " 'post_source': {'type': 'vk'},\n",
       " 'post_type': 'post',\n",
       " 'reposts': {'count': 0, 'user_reposted': 0},\n",
       " 'text': '',\n",
       " 'views': {'count': 444}}"
      ]
     },
     "execution_count": 6,
     "metadata": {},
     "output_type": "execute_result"
    }
   ],
   "source": [
    "# Проверяем внутренности post'а\n",
    "posts[0]"
   ]
  },
  {
   "cell_type": "code",
   "execution_count": 7,
   "id": "80239696",
   "metadata": {},
   "outputs": [
    {
     "data": {
      "text/plain": [
       "3"
      ]
     },
     "execution_count": 7,
     "metadata": {},
     "output_type": "execute_result"
    }
   ],
   "source": [
    "posts[0][\"likes\"][\"count\"] # выбираем количество лайков с поста"
   ]
  },
  {
   "cell_type": "code",
   "execution_count": 8,
   "id": "13b1e089",
   "metadata": {},
   "outputs": [
    {
     "data": {
      "text/plain": [
       "24555"
      ]
     },
     "execution_count": 8,
     "metadata": {},
     "output_type": "execute_result"
    }
   ],
   "source": [
    "posts[0][\"id\"] # выбираем айдишник поста"
   ]
  },
  {
   "cell_type": "code",
   "execution_count": 9,
   "id": "4e3de50d",
   "metadata": {},
   "outputs": [
    {
     "data": {
      "text/plain": [
       "1664139981"
      ]
     },
     "execution_count": 9,
     "metadata": {},
     "output_type": "execute_result"
    }
   ],
   "source": [
    "posts[0][\"date\"] # выбираем дату поста из джейсона "
   ]
  },
  {
   "cell_type": "code",
   "execution_count": 10,
   "id": "f6802afa",
   "metadata": {},
   "outputs": [
    {
     "data": {
      "text/plain": [
       "['Monday', 'September', '26', '2022', '00:06:21']"
      ]
     },
     "execution_count": 10,
     "metadata": {},
     "output_type": "execute_result"
    }
   ],
   "source": [
    "datetime.fromtimestamp(posts[0][\"date\"]).strftime(\"%A, %B, %d, %Y, %H:%M:%S\").split(\", \")"
   ]
  },
  {
   "cell_type": "code",
   "execution_count": 11,
   "id": "11c67b94",
   "metadata": {},
   "outputs": [],
   "source": [
    "with open('posts.csv', 'w', newline='') as csvfile:\n",
    "    fieldnames = ['post_id', 'likes_count', 'post_datetime']\n",
    "    writer = csv.DictWriter(csvfile, fieldnames=fieldnames)\n",
    "\n",
    "    writer.writeheader()\n",
    "    \n",
    "    for post in posts:\n",
    "        writer.writerow({'post_id': post[\"id\"], 'likes_count': post[\"likes\"][\"count\"], 'post_datetime': post[\"date\"]})"
   ]
  },
  {
   "cell_type": "code",
   "execution_count": 12,
   "id": "9a5a94b0",
   "metadata": {},
   "outputs": [],
   "source": [
    "datafr = pd.read_csv(\"posts.csv\")"
   ]
  },
  {
   "cell_type": "code",
   "execution_count": 13,
   "id": "e4198215",
   "metadata": {},
   "outputs": [
    {
     "data": {
      "text/html": [
       "<div>\n",
       "<style scoped>\n",
       "    .dataframe tbody tr th:only-of-type {\n",
       "        vertical-align: middle;\n",
       "    }\n",
       "\n",
       "    .dataframe tbody tr th {\n",
       "        vertical-align: top;\n",
       "    }\n",
       "\n",
       "    .dataframe thead th {\n",
       "        text-align: right;\n",
       "    }\n",
       "</style>\n",
       "<table border=\"1\" class=\"dataframe\">\n",
       "  <thead>\n",
       "    <tr style=\"text-align: right;\">\n",
       "      <th></th>\n",
       "      <th>post_id</th>\n",
       "      <th>likes_count</th>\n",
       "      <th>post_datetime</th>\n",
       "    </tr>\n",
       "  </thead>\n",
       "  <tbody>\n",
       "    <tr>\n",
       "      <th>0</th>\n",
       "      <td>24555</td>\n",
       "      <td>3</td>\n",
       "      <td>1664139981</td>\n",
       "    </tr>\n",
       "    <tr>\n",
       "      <th>1</th>\n",
       "      <td>24869</td>\n",
       "      <td>0</td>\n",
       "      <td>1690655159</td>\n",
       "    </tr>\n",
       "    <tr>\n",
       "      <th>2</th>\n",
       "      <td>24868</td>\n",
       "      <td>1</td>\n",
       "      <td>1690573794</td>\n",
       "    </tr>\n",
       "    <tr>\n",
       "      <th>3</th>\n",
       "      <td>24867</td>\n",
       "      <td>1</td>\n",
       "      <td>1690551112</td>\n",
       "    </tr>\n",
       "    <tr>\n",
       "      <th>4</th>\n",
       "      <td>24865</td>\n",
       "      <td>0</td>\n",
       "      <td>1690227353</td>\n",
       "    </tr>\n",
       "  </tbody>\n",
       "</table>\n",
       "</div>"
      ],
      "text/plain": [
       "   post_id  likes_count  post_datetime\n",
       "0    24555            3     1664139981\n",
       "1    24869            0     1690655159\n",
       "2    24868            1     1690573794\n",
       "3    24867            1     1690551112\n",
       "4    24865            0     1690227353"
      ]
     },
     "execution_count": 13,
     "metadata": {},
     "output_type": "execute_result"
    }
   ],
   "source": [
    "datafr.head(5)"
   ]
  },
  {
   "cell_type": "code",
   "execution_count": 14,
   "id": "faa61b6d",
   "metadata": {},
   "outputs": [],
   "source": [
    "def time_of_day_to_word(hour:str):\n",
    "    try:\n",
    "        hour = int(hour)\n",
    "    except:\n",
    "        return 'day'\n",
    "    if 0 <= hour < 6:\n",
    "        return 'night'\n",
    "    elif 6 <= hour < 12:\n",
    "        return 'morning'\n",
    "    elif 12 <= hour <18:\n",
    "        return 'day'\n",
    "    elif 18 <= hour <= 23:\n",
    "        return 'evening'\n",
    "    else:\n",
    "        return 'day'"
   ]
  },
  {
   "cell_type": "code",
   "execution_count": 90,
   "id": "59d1d6c7",
   "metadata": {},
   "outputs": [
    {
     "ename": "SyntaxError",
     "evalue": "invalid syntax (2365479714.py, line 4)",
     "output_type": "error",
     "traceback": [
      "\u001b[1;36m  Input \u001b[1;32mIn [90]\u001b[1;36m\u001b[0m\n\u001b[1;33m    match hour:\u001b[0m\n\u001b[1;37m          ^\u001b[0m\n\u001b[1;31mSyntaxError\u001b[0m\u001b[1;31m:\u001b[0m invalid syntax\n"
     ]
    }
   ],
   "source": [
    "# если версия питона, начиная с 3.10\n",
    "def time_of_day_to_word_match (hour):\n",
    "    #hour = int(hour)\n",
    "    match hour:\n",
    "        case 0 <= hour < 6:\n",
    "            return 'night'\n",
    "        case 6 < hour < 12:\n",
    "            return 'morning'\n",
    "        case 12 <= hour <18:\n",
    "            return 'day'\n",
    "        case 18 <= hour <= 23:\n",
    "            return 'evening'\n",
    "        case _:\n",
    "            default('day')"
   ]
  },
  {
   "cell_type": "code",
   "execution_count": 15,
   "id": "a2098bf3",
   "metadata": {},
   "outputs": [],
   "source": [
    "datafr[\"week_day\"] = datafr['post_datetime'].apply(lambda x: datetime.fromtimestamp(x).strftime(\"%A\"))"
   ]
  },
  {
   "cell_type": "code",
   "execution_count": 16,
   "id": "a431cfd0",
   "metadata": {},
   "outputs": [],
   "source": [
    "datafr[\"time_of_day\"] = datafr['post_datetime'].apply(lambda x: datetime.fromtimestamp(x).strftime(\"%H\"))\n",
    "\n",
    "datafr[\"time_of_day\"] = datafr[\"time_of_day\"].apply(time_of_day_to_word)"
   ]
  },
  {
   "cell_type": "code",
   "execution_count": 17,
   "id": "ab0e40ae",
   "metadata": {},
   "outputs": [
    {
     "data": {
      "text/html": [
       "<div>\n",
       "<style scoped>\n",
       "    .dataframe tbody tr th:only-of-type {\n",
       "        vertical-align: middle;\n",
       "    }\n",
       "\n",
       "    .dataframe tbody tr th {\n",
       "        vertical-align: top;\n",
       "    }\n",
       "\n",
       "    .dataframe thead th {\n",
       "        text-align: right;\n",
       "    }\n",
       "</style>\n",
       "<table border=\"1\" class=\"dataframe\">\n",
       "  <thead>\n",
       "    <tr style=\"text-align: right;\">\n",
       "      <th></th>\n",
       "      <th>post_id</th>\n",
       "      <th>likes_count</th>\n",
       "      <th>post_datetime</th>\n",
       "      <th>week_day</th>\n",
       "      <th>time_of_day</th>\n",
       "    </tr>\n",
       "  </thead>\n",
       "  <tbody>\n",
       "    <tr>\n",
       "      <th>0</th>\n",
       "      <td>24555</td>\n",
       "      <td>3</td>\n",
       "      <td>1664139981</td>\n",
       "      <td>Monday</td>\n",
       "      <td>night</td>\n",
       "    </tr>\n",
       "    <tr>\n",
       "      <th>1</th>\n",
       "      <td>24869</td>\n",
       "      <td>0</td>\n",
       "      <td>1690655159</td>\n",
       "      <td>Saturday</td>\n",
       "      <td>evening</td>\n",
       "    </tr>\n",
       "    <tr>\n",
       "      <th>2</th>\n",
       "      <td>24868</td>\n",
       "      <td>1</td>\n",
       "      <td>1690573794</td>\n",
       "      <td>Friday</td>\n",
       "      <td>evening</td>\n",
       "    </tr>\n",
       "    <tr>\n",
       "      <th>3</th>\n",
       "      <td>24867</td>\n",
       "      <td>1</td>\n",
       "      <td>1690551112</td>\n",
       "      <td>Friday</td>\n",
       "      <td>day</td>\n",
       "    </tr>\n",
       "    <tr>\n",
       "      <th>4</th>\n",
       "      <td>24865</td>\n",
       "      <td>0</td>\n",
       "      <td>1690227353</td>\n",
       "      <td>Monday</td>\n",
       "      <td>evening</td>\n",
       "    </tr>\n",
       "    <tr>\n",
       "      <th>...</th>\n",
       "      <td>...</td>\n",
       "      <td>...</td>\n",
       "      <td>...</td>\n",
       "      <td>...</td>\n",
       "      <td>...</td>\n",
       "    </tr>\n",
       "    <tr>\n",
       "      <th>95</th>\n",
       "      <td>24773</td>\n",
       "      <td>0</td>\n",
       "      <td>1678398307</td>\n",
       "      <td>Friday</td>\n",
       "      <td>night</td>\n",
       "    </tr>\n",
       "    <tr>\n",
       "      <th>96</th>\n",
       "      <td>24772</td>\n",
       "      <td>0</td>\n",
       "      <td>1678313308</td>\n",
       "      <td>Thursday</td>\n",
       "      <td>night</td>\n",
       "    </tr>\n",
       "    <tr>\n",
       "      <th>97</th>\n",
       "      <td>24771</td>\n",
       "      <td>0</td>\n",
       "      <td>1678301038</td>\n",
       "      <td>Wednesday</td>\n",
       "      <td>evening</td>\n",
       "    </tr>\n",
       "    <tr>\n",
       "      <th>98</th>\n",
       "      <td>24770</td>\n",
       "      <td>0</td>\n",
       "      <td>1678213921</td>\n",
       "      <td>Tuesday</td>\n",
       "      <td>evening</td>\n",
       "    </tr>\n",
       "    <tr>\n",
       "      <th>99</th>\n",
       "      <td>24769</td>\n",
       "      <td>2</td>\n",
       "      <td>1678112550</td>\n",
       "      <td>Monday</td>\n",
       "      <td>day</td>\n",
       "    </tr>\n",
       "  </tbody>\n",
       "</table>\n",
       "<p>100 rows × 5 columns</p>\n",
       "</div>"
      ],
      "text/plain": [
       "    post_id  likes_count  post_datetime   week_day time_of_day\n",
       "0     24555            3     1664139981     Monday       night\n",
       "1     24869            0     1690655159   Saturday     evening\n",
       "2     24868            1     1690573794     Friday     evening\n",
       "3     24867            1     1690551112     Friday         day\n",
       "4     24865            0     1690227353     Monday     evening\n",
       "..      ...          ...            ...        ...         ...\n",
       "95    24773            0     1678398307     Friday       night\n",
       "96    24772            0     1678313308   Thursday       night\n",
       "97    24771            0     1678301038  Wednesday     evening\n",
       "98    24770            0     1678213921    Tuesday     evening\n",
       "99    24769            2     1678112550     Monday         day\n",
       "\n",
       "[100 rows x 5 columns]"
      ]
     },
     "execution_count": 17,
     "metadata": {},
     "output_type": "execute_result"
    }
   ],
   "source": [
    "datafr"
   ]
  },
  {
   "cell_type": "code",
   "execution_count": 42,
   "id": "c06f4b2b",
   "metadata": {},
   "outputs": [],
   "source": [
    "# среднее количество лайков для пар записей, у которых промежуток времени между постами больше нуля\n",
    "# таким образом, мы находим корреляцию между временной дистанцией между постами и количеством лайков \n",
    "sql_query = '''\n",
    "SELECT AVG(likes_count) \n",
    "FROM (\n",
    "  SELECT t1.post_id, t1.likes_count, MIN(t2.post_datetime) - t1.post_datetime AS time_diff\n",
    "    FROM datafr as t1\n",
    "    INNER JOIN datafr as t2 ON t1.post_id < t2.post_id\n",
    "    GROUP BY t1.post_id, t1.likes_count\n",
    "  ) subquery\n",
    "WHERE time_diff > 0\n",
    "    '''"
   ]
  },
  {
   "cell_type": "code",
   "execution_count": 43,
   "id": "dbf1a8a0",
   "metadata": {},
   "outputs": [
    {
     "data": {
      "text/html": [
       "<div>\n",
       "<style scoped>\n",
       "    .dataframe tbody tr th:only-of-type {\n",
       "        vertical-align: middle;\n",
       "    }\n",
       "\n",
       "    .dataframe tbody tr th {\n",
       "        vertical-align: top;\n",
       "    }\n",
       "\n",
       "    .dataframe thead th {\n",
       "        text-align: right;\n",
       "    }\n",
       "</style>\n",
       "<table border=\"1\" class=\"dataframe\">\n",
       "  <thead>\n",
       "    <tr style=\"text-align: right;\">\n",
       "      <th></th>\n",
       "      <th>AVG(likes_count)</th>\n",
       "    </tr>\n",
       "  </thead>\n",
       "  <tbody>\n",
       "    <tr>\n",
       "      <th>0</th>\n",
       "      <td>0.565657</td>\n",
       "    </tr>\n",
       "  </tbody>\n",
       "</table>\n",
       "</div>"
      ],
      "text/plain": [
       "   AVG(likes_count)\n",
       "0          0.565657"
      ]
     },
     "execution_count": 43,
     "metadata": {},
     "output_type": "execute_result"
    }
   ],
   "source": [
    "ps.sqldf(sql_query)"
   ]
  },
  {
   "cell_type": "code",
   "execution_count": 117,
   "id": "9608c907",
   "metadata": {},
   "outputs": [],
   "source": [
    "# среднее количество лайков для каждого дня недели\n",
    "sql_query = '''\n",
    "SELECT week_day, AVG(likes_count) AS avg_likes\n",
    "FROM datafr\n",
    "GROUP BY week_day\n",
    "    '''"
   ]
  },
  {
   "cell_type": "code",
   "execution_count": 118,
   "id": "9d8ab984",
   "metadata": {},
   "outputs": [
    {
     "data": {
      "text/html": [
       "<div>\n",
       "<style scoped>\n",
       "    .dataframe tbody tr th:only-of-type {\n",
       "        vertical-align: middle;\n",
       "    }\n",
       "\n",
       "    .dataframe tbody tr th {\n",
       "        vertical-align: top;\n",
       "    }\n",
       "\n",
       "    .dataframe thead th {\n",
       "        text-align: right;\n",
       "    }\n",
       "</style>\n",
       "<table border=\"1\" class=\"dataframe\">\n",
       "  <thead>\n",
       "    <tr style=\"text-align: right;\">\n",
       "      <th></th>\n",
       "      <th>week_day</th>\n",
       "      <th>avg_likes</th>\n",
       "    </tr>\n",
       "  </thead>\n",
       "  <tbody>\n",
       "    <tr>\n",
       "      <th>0</th>\n",
       "      <td>Friday</td>\n",
       "      <td>0.535714</td>\n",
       "    </tr>\n",
       "    <tr>\n",
       "      <th>1</th>\n",
       "      <td>Monday</td>\n",
       "      <td>1.066667</td>\n",
       "    </tr>\n",
       "    <tr>\n",
       "      <th>2</th>\n",
       "      <td>Saturday</td>\n",
       "      <td>0.250000</td>\n",
       "    </tr>\n",
       "    <tr>\n",
       "      <th>3</th>\n",
       "      <td>Sunday</td>\n",
       "      <td>0.500000</td>\n",
       "    </tr>\n",
       "    <tr>\n",
       "      <th>4</th>\n",
       "      <td>Thursday</td>\n",
       "      <td>0.461538</td>\n",
       "    </tr>\n",
       "    <tr>\n",
       "      <th>5</th>\n",
       "      <td>Tuesday</td>\n",
       "      <td>0.500000</td>\n",
       "    </tr>\n",
       "    <tr>\n",
       "      <th>6</th>\n",
       "      <td>Wednesday</td>\n",
       "      <td>0.416667</td>\n",
       "    </tr>\n",
       "  </tbody>\n",
       "</table>\n",
       "</div>"
      ],
      "text/plain": [
       "    week_day  avg_likes\n",
       "0     Friday   0.535714\n",
       "1     Monday   1.066667\n",
       "2   Saturday   0.250000\n",
       "3     Sunday   0.500000\n",
       "4   Thursday   0.461538\n",
       "5    Tuesday   0.500000\n",
       "6  Wednesday   0.416667"
      ]
     },
     "execution_count": 118,
     "metadata": {},
     "output_type": "execute_result"
    }
   ],
   "source": [
    "ps.sqldf(sql_query)"
   ]
  },
  {
   "cell_type": "code",
   "execution_count": 119,
   "id": "1653f63d",
   "metadata": {},
   "outputs": [],
   "source": [
    "# подсчитает среднее количество лайков для каждого значения поля time_of_day т.е. дня недели\n",
    "sql_query = '''\n",
    "SELECT time_of_day, AVG(likes_count) AS avg_likes\n",
    "FROM datafr\n",
    "GROUP BY time_of_day\n",
    "    '''"
   ]
  },
  {
   "cell_type": "code",
   "execution_count": 120,
   "id": "68ad4331",
   "metadata": {},
   "outputs": [
    {
     "data": {
      "text/html": [
       "<div>\n",
       "<style scoped>\n",
       "    .dataframe tbody tr th:only-of-type {\n",
       "        vertical-align: middle;\n",
       "    }\n",
       "\n",
       "    .dataframe tbody tr th {\n",
       "        vertical-align: top;\n",
       "    }\n",
       "\n",
       "    .dataframe thead th {\n",
       "        text-align: right;\n",
       "    }\n",
       "</style>\n",
       "<table border=\"1\" class=\"dataframe\">\n",
       "  <thead>\n",
       "    <tr style=\"text-align: right;\">\n",
       "      <th></th>\n",
       "      <th>time_of_day</th>\n",
       "      <th>avg_likes</th>\n",
       "    </tr>\n",
       "  </thead>\n",
       "  <tbody>\n",
       "    <tr>\n",
       "      <th>0</th>\n",
       "      <td>day</td>\n",
       "      <td>0.476190</td>\n",
       "    </tr>\n",
       "    <tr>\n",
       "      <th>1</th>\n",
       "      <td>evening</td>\n",
       "      <td>0.540541</td>\n",
       "    </tr>\n",
       "    <tr>\n",
       "      <th>2</th>\n",
       "      <td>morning</td>\n",
       "      <td>1.142857</td>\n",
       "    </tr>\n",
       "    <tr>\n",
       "      <th>3</th>\n",
       "      <td>night</td>\n",
       "      <td>0.571429</td>\n",
       "    </tr>\n",
       "  </tbody>\n",
       "</table>\n",
       "</div>"
      ],
      "text/plain": [
       "  time_of_day  avg_likes\n",
       "0         day   0.476190\n",
       "1     evening   0.540541\n",
       "2     morning   1.142857\n",
       "3       night   0.571429"
      ]
     },
     "execution_count": 120,
     "metadata": {},
     "output_type": "execute_result"
    }
   ],
   "source": [
    "ps.sqldf(sql_query)"
   ]
  },
  {
   "cell_type": "code",
   "execution_count": null,
   "id": "c485d078",
   "metadata": {},
   "outputs": [],
   "source": []
  }
 ],
 "metadata": {
  "kernelspec": {
   "display_name": "Python 3 (ipykernel)",
   "language": "python",
   "name": "python3"
  },
  "language_info": {
   "codemirror_mode": {
    "name": "ipython",
    "version": 3
   },
   "file_extension": ".py",
   "mimetype": "text/x-python",
   "name": "python",
   "nbconvert_exporter": "python",
   "pygments_lexer": "ipython3",
   "version": "3.9.12"
  }
 },
 "nbformat": 4,
 "nbformat_minor": 5
}
